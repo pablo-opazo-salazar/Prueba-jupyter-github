{
 "cells": [
  {
   "cell_type": "code",
   "execution_count": 1,
   "id": "346c9b2a-edd9-4fde-b089-28a838d4ada2",
   "metadata": {},
   "outputs": [],
   "source": [
    "#Subir aquí un código que simule un péndulo simple."
   ]
  }
 ],
 "metadata": {
  "kernelspec": {
   "display_name": "Python 3 (ipykernel)",
   "language": "python",
   "name": "python3"
  },
  "language_info": {
   "codemirror_mode": {
    "name": "ipython",
    "version": 3
   },
   "file_extension": ".py",
   "mimetype": "text/x-python",
   "name": "python",
   "nbconvert_exporter": "python",
   "pygments_lexer": "ipython3",
   "version": "3.12.4"
  }
 },
 "nbformat": 4,
 "nbformat_minor": 5
}
